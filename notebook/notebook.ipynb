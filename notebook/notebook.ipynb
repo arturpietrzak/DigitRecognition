{
 "cells": [
  {
   "cell_type": "code",
   "execution_count": 6,
   "id": "8a1b1106",
   "metadata": {},
   "outputs": [
    {
     "name": "stdout",
     "output_type": "stream",
     "text": [
      "Requirement already satisfied: flask-cors in /Users/arturpietrzak/miniconda3/envs/tensorflow/lib/python3.10/site-packages (4.0.0)\n",
      "Requirement already satisfied: Flask>=0.9 in /Users/arturpietrzak/miniconda3/envs/tensorflow/lib/python3.10/site-packages (from flask-cors) (2.2.3)\n",
      "Requirement already satisfied: Werkzeug>=2.2.2 in /Users/arturpietrzak/miniconda3/envs/tensorflow/lib/python3.10/site-packages (from Flask>=0.9->flask-cors) (2.2.3)\n",
      "Requirement already satisfied: Jinja2>=3.0 in /Users/arturpietrzak/miniconda3/envs/tensorflow/lib/python3.10/site-packages (from Flask>=0.9->flask-cors) (3.1.2)\n",
      "Requirement already satisfied: itsdangerous>=2.0 in /Users/arturpietrzak/miniconda3/envs/tensorflow/lib/python3.10/site-packages (from Flask>=0.9->flask-cors) (2.1.2)\n",
      "Requirement already satisfied: click>=8.0 in /Users/arturpietrzak/miniconda3/envs/tensorflow/lib/python3.10/site-packages (from Flask>=0.9->flask-cors) (8.1.3)\n",
      "Requirement already satisfied: MarkupSafe>=2.0 in /Users/arturpietrzak/miniconda3/envs/tensorflow/lib/python3.10/site-packages (from Jinja2>=3.0->Flask>=0.9->flask-cors) (2.1.2)\n",
      "Note: you may need to restart the kernel to use updated packages.\n"
     ]
    }
   ],
   "source": [
    "%pip install flask-cors"
   ]
  },
  {
   "cell_type": "code",
   "execution_count": 1,
   "id": "f77b5b74",
   "metadata": {},
   "outputs": [],
   "source": [
    "import tensorflow as tf\n",
    "import base64\n",
    "from PIL import Image\n",
    "import io\n",
    "import numpy as np"
   ]
  },
  {
   "cell_type": "code",
   "execution_count": 2,
   "id": "e60b8d7b",
   "metadata": {},
   "outputs": [],
   "source": [
    "# data import\n",
    "dataset = tf.keras.datasets.mnist\n",
    "(x_train, y_train), (x_test, y_test) = dataset.load_data()"
   ]
  },
  {
   "cell_type": "code",
   "execution_count": 3,
   "id": "d7e6651f",
   "metadata": {},
   "outputs": [],
   "source": [
    "# data normalization\n",
    "x_train = tf.keras.utils.normalize(x_train, axis=1)\n",
    "x_test = tf.keras.utils.normalize(x_test, axis=1)"
   ]
  },
  {
   "cell_type": "code",
   "execution_count": 6,
   "id": "a84f2e94",
   "metadata": {},
   "outputs": [],
   "source": [
    "# model config 784-50-100-500-1000-10-10\n",
    "model = tf.keras.models.Sequential()\n",
    "model.add(tf.keras.layers.Flatten(input_shape=(28, 28)))\n",
    "model.add(tf.keras.layers.Dense(784, activation = 'relu'))\n",
    "model.add(tf.keras.layers.Dense(50, activation = 'relu'))\n",
    "model.add(tf.keras.layers.Dense(100, activation = 'relu'))\n",
    "model.add(tf.keras.layers.Dense(500, activation = 'relu'))\n",
    "model.add(tf.keras.layers.Dense(1000, activation = 'relu'))\n",
    "model.add(tf.keras.layers.Dense(10, activation = 'relu'))\n",
    "model.add(tf.keras.layers.Dense(10, activation = 'softmax'))\n",
    "\n",
    "model.compile(optimizer = 'adam', loss = 'sparse_categorical_crossentropy', metrics = ['accuracy'])"
   ]
  },
  {
   "cell_type": "code",
   "execution_count": 8,
   "id": "5c7b718c",
   "metadata": {},
   "outputs": [
    {
     "name": "stdout",
     "output_type": "stream",
     "text": [
      "Epoch 1/3\n",
      "1875/1875 [==============================] - 14s 8ms/step - loss: 0.0715 - accuracy: 0.9804\n",
      "Epoch 2/3\n",
      "1875/1875 [==============================] - 15s 8ms/step - loss: 0.0570 - accuracy: 0.9841\n",
      "Epoch 3/3\n",
      "1875/1875 [==============================] - 15s 8ms/step - loss: 0.0491 - accuracy: 0.9863\n"
     ]
    },
    {
     "data": {
      "text/plain": [
       "<keras.callbacks.History at 0x2d4235c00>"
      ]
     },
     "execution_count": 8,
     "metadata": {},
     "output_type": "execute_result"
    }
   ],
   "source": [
    "# fit model\n",
    "model.fit(x_train, y_train, epochs=3)"
   ]
  },
  {
   "cell_type": "code",
   "execution_count": 9,
   "id": "41fa5c07",
   "metadata": {},
   "outputs": [
    {
     "name": "stdout",
     "output_type": "stream",
     "text": [
      "313/313 [==============================] - 2s 5ms/step - loss: 0.1038 - accuracy: 0.9752\n",
      "accuracy = 0.9752000570297241 loss = 0.10379461199045181\n"
     ]
    }
   ],
   "source": [
    "# test\n",
    "loss, accuracy = model.evaluate(x_test, y_test)\n",
    "print('accuracy =', accuracy, 'loss =', loss)"
   ]
  },
  {
   "cell_type": "code",
   "execution_count": 10,
   "id": "21316bf4",
   "metadata": {},
   "outputs": [
    {
     "name": "stdout",
     "output_type": "stream",
     "text": [
      "INFO:tensorflow:Assets written to: digits_recognition/assets\n"
     ]
    }
   ],
   "source": [
    "# save model\n",
    "model.save('digits_recognition')"
   ]
  },
  {
   "cell_type": "code",
   "execution_count": null,
   "id": "7bc40895",
   "metadata": {},
   "outputs": [
    {
     "name": "stdout",
     "output_type": "stream",
     "text": [
      " * Serving Flask app '__main__'\n",
      " * Debug mode: off\n"
     ]
    },
    {
     "name": "stderr",
     "output_type": "stream",
     "text": [
      "WARNING: This is a development server. Do not use it in a production deployment. Use a production WSGI server instead.\n",
      " * Running on http://127.0.0.1:5000\n",
      "Press CTRL+C to quit\n",
      "127.0.0.1 - - [08/Oct/2023 03:48:14] \"OPTIONS /classify_number HTTP/1.1\" 200 -\n"
     ]
    },
    {
     "name": "stdout",
     "output_type": "stream",
     "text": [
      "1/1 [==============================] - 0s 151ms/step\n"
     ]
    },
    {
     "name": "stderr",
     "output_type": "stream",
     "text": [
      "127.0.0.1 - - [08/Oct/2023 03:48:14] \"POST /classify_number HTTP/1.1\" 200 -\n"
     ]
    },
    {
     "name": "stdout",
     "output_type": "stream",
     "text": [
      "1/1 [==============================] - 0s 19ms/step\n"
     ]
    },
    {
     "name": "stderr",
     "output_type": "stream",
     "text": [
      "127.0.0.1 - - [08/Oct/2023 03:48:15] \"POST /classify_number HTTP/1.1\" 200 -\n",
      "127.0.0.1 - - [08/Oct/2023 03:48:41] \"OPTIONS /classify_number HTTP/1.1\" 200 -\n"
     ]
    },
    {
     "name": "stdout",
     "output_type": "stream",
     "text": [
      "1/1 [==============================] - 0s 15ms/step\n"
     ]
    },
    {
     "name": "stderr",
     "output_type": "stream",
     "text": [
      "127.0.0.1 - - [08/Oct/2023 03:48:41] \"POST /classify_number HTTP/1.1\" 200 -\n",
      "127.0.0.1 - - [08/Oct/2023 03:48:46] \"OPTIONS /classify_number HTTP/1.1\" 200 -\n"
     ]
    },
    {
     "name": "stdout",
     "output_type": "stream",
     "text": [
      "1/1 [==============================] - 0s 13ms/step\n"
     ]
    },
    {
     "name": "stderr",
     "output_type": "stream",
     "text": [
      "127.0.0.1 - - [08/Oct/2023 03:48:46] \"POST /classify_number HTTP/1.1\" 200 -\n"
     ]
    },
    {
     "name": "stdout",
     "output_type": "stream",
     "text": [
      "1/1 [==============================] - 0s 14ms/step\n"
     ]
    },
    {
     "name": "stderr",
     "output_type": "stream",
     "text": [
      "127.0.0.1 - - [08/Oct/2023 03:48:50] \"POST /classify_number HTTP/1.1\" 200 -\n",
      "127.0.0.1 - - [08/Oct/2023 03:48:54] \"OPTIONS /classify_number HTTP/1.1\" 200 -\n"
     ]
    },
    {
     "name": "stdout",
     "output_type": "stream",
     "text": [
      "1/1 [==============================] - 0s 13ms/step\n"
     ]
    },
    {
     "name": "stderr",
     "output_type": "stream",
     "text": [
      "127.0.0.1 - - [08/Oct/2023 03:48:54] \"POST /classify_number HTTP/1.1\" 200 -\n"
     ]
    },
    {
     "name": "stdout",
     "output_type": "stream",
     "text": [
      "1/1 [==============================] - 0s 12ms/step\n"
     ]
    },
    {
     "name": "stderr",
     "output_type": "stream",
     "text": [
      "127.0.0.1 - - [08/Oct/2023 03:48:58] \"POST /classify_number HTTP/1.1\" 200 -\n",
      "127.0.0.1 - - [08/Oct/2023 03:49:02] \"OPTIONS /classify_number HTTP/1.1\" 200 -\n"
     ]
    },
    {
     "name": "stdout",
     "output_type": "stream",
     "text": [
      "1/1 [==============================] - 0s 13ms/step\n"
     ]
    },
    {
     "name": "stderr",
     "output_type": "stream",
     "text": [
      "127.0.0.1 - - [08/Oct/2023 03:49:03] \"POST /classify_number HTTP/1.1\" 200 -\n"
     ]
    },
    {
     "name": "stdout",
     "output_type": "stream",
     "text": [
      "1/1 [==============================] - 0s 14ms/step\n"
     ]
    },
    {
     "name": "stderr",
     "output_type": "stream",
     "text": [
      "127.0.0.1 - - [08/Oct/2023 03:49:07] \"POST /classify_number HTTP/1.1\" 200 -\n",
      "127.0.0.1 - - [08/Oct/2023 03:49:34] \"OPTIONS /classify_number HTTP/1.1\" 200 -\n"
     ]
    },
    {
     "name": "stdout",
     "output_type": "stream",
     "text": [
      "1/1 [==============================] - 0s 12ms/step\n"
     ]
    },
    {
     "name": "stderr",
     "output_type": "stream",
     "text": [
      "127.0.0.1 - - [08/Oct/2023 03:49:34] \"POST /classify_number HTTP/1.1\" 200 -\n"
     ]
    },
    {
     "name": "stdout",
     "output_type": "stream",
     "text": [
      "1/1 [==============================] - 0s 14ms/step\n"
     ]
    },
    {
     "name": "stderr",
     "output_type": "stream",
     "text": [
      "127.0.0.1 - - [08/Oct/2023 03:49:39] \"POST /classify_number HTTP/1.1\" 200 -\n",
      "127.0.0.1 - - [08/Oct/2023 03:49:44] \"OPTIONS /classify_number HTTP/1.1\" 200 -\n"
     ]
    },
    {
     "name": "stdout",
     "output_type": "stream",
     "text": [
      "1/1 [==============================] - 0s 14ms/step\n"
     ]
    },
    {
     "name": "stderr",
     "output_type": "stream",
     "text": [
      "127.0.0.1 - - [08/Oct/2023 03:49:44] \"POST /classify_number HTTP/1.1\" 200 -\n"
     ]
    },
    {
     "name": "stdout",
     "output_type": "stream",
     "text": [
      "1/1 [==============================] - 0s 13ms/step\n"
     ]
    },
    {
     "name": "stderr",
     "output_type": "stream",
     "text": [
      "127.0.0.1 - - [08/Oct/2023 03:49:48] \"POST /classify_number HTTP/1.1\" 200 -\n",
      "127.0.0.1 - - [08/Oct/2023 03:49:53] \"OPTIONS /classify_number HTTP/1.1\" 200 -\n"
     ]
    },
    {
     "name": "stdout",
     "output_type": "stream",
     "text": [
      "1/1 [==============================] - 0s 13ms/step\n"
     ]
    },
    {
     "name": "stderr",
     "output_type": "stream",
     "text": [
      "127.0.0.1 - - [08/Oct/2023 03:49:53] \"POST /classify_number HTTP/1.1\" 200 -\n"
     ]
    },
    {
     "name": "stdout",
     "output_type": "stream",
     "text": [
      "1/1 [==============================] - 0s 14ms/step\n"
     ]
    },
    {
     "name": "stderr",
     "output_type": "stream",
     "text": [
      "127.0.0.1 - - [08/Oct/2023 03:49:57] \"POST /classify_number HTTP/1.1\" 200 -\n",
      "127.0.0.1 - - [08/Oct/2023 03:50:01] \"OPTIONS /classify_number HTTP/1.1\" 200 -\n"
     ]
    },
    {
     "name": "stdout",
     "output_type": "stream",
     "text": [
      "1/1 [==============================] - 0s 12ms/step\n"
     ]
    },
    {
     "name": "stderr",
     "output_type": "stream",
     "text": [
      "127.0.0.1 - - [08/Oct/2023 03:50:01] \"POST /classify_number HTTP/1.1\" 200 -\n"
     ]
    },
    {
     "name": "stdout",
     "output_type": "stream",
     "text": [
      "1/1 [==============================] - 0s 13ms/step\n"
     ]
    },
    {
     "name": "stderr",
     "output_type": "stream",
     "text": [
      "127.0.0.1 - - [08/Oct/2023 03:50:05] \"POST /classify_number HTTP/1.1\" 200 -\n",
      "127.0.0.1 - - [08/Oct/2023 03:50:10] \"OPTIONS /classify_number HTTP/1.1\" 200 -\n"
     ]
    },
    {
     "name": "stdout",
     "output_type": "stream",
     "text": [
      "1/1 [==============================] - 0s 14ms/step\n"
     ]
    },
    {
     "name": "stderr",
     "output_type": "stream",
     "text": [
      "127.0.0.1 - - [08/Oct/2023 03:50:10] \"POST /classify_number HTTP/1.1\" 200 -\n"
     ]
    },
    {
     "name": "stdout",
     "output_type": "stream",
     "text": [
      "1/1 [==============================] - 0s 14ms/step\n"
     ]
    },
    {
     "name": "stderr",
     "output_type": "stream",
     "text": [
      "127.0.0.1 - - [08/Oct/2023 03:50:14] \"POST /classify_number HTTP/1.1\" 200 -\n",
      "127.0.0.1 - - [08/Oct/2023 03:50:19] \"OPTIONS /classify_number HTTP/1.1\" 200 -\n"
     ]
    },
    {
     "name": "stdout",
     "output_type": "stream",
     "text": [
      "1/1 [==============================] - 0s 13ms/step\n"
     ]
    },
    {
     "name": "stderr",
     "output_type": "stream",
     "text": [
      "127.0.0.1 - - [08/Oct/2023 03:50:19] \"POST /classify_number HTTP/1.1\" 200 -\n"
     ]
    },
    {
     "name": "stdout",
     "output_type": "stream",
     "text": [
      "1/1 [==============================] - 0s 13ms/step\n"
     ]
    },
    {
     "name": "stderr",
     "output_type": "stream",
     "text": [
      "127.0.0.1 - - [08/Oct/2023 03:50:23] \"POST /classify_number HTTP/1.1\" 200 -\n",
      "127.0.0.1 - - [08/Oct/2023 03:50:29] \"OPTIONS /classify_number HTTP/1.1\" 200 -\n"
     ]
    },
    {
     "name": "stdout",
     "output_type": "stream",
     "text": [
      "1/1 [==============================] - 0s 16ms/step\n"
     ]
    },
    {
     "name": "stderr",
     "output_type": "stream",
     "text": [
      "127.0.0.1 - - [08/Oct/2023 03:50:29] \"POST /classify_number HTTP/1.1\" 200 -\n"
     ]
    },
    {
     "name": "stdout",
     "output_type": "stream",
     "text": [
      "1/1 [==============================] - 0s 16ms/step\n"
     ]
    },
    {
     "name": "stderr",
     "output_type": "stream",
     "text": [
      "127.0.0.1 - - [08/Oct/2023 03:50:29] \"POST /classify_number HTTP/1.1\" 200 -\n"
     ]
    },
    {
     "name": "stdout",
     "output_type": "stream",
     "text": [
      "1/1 [==============================] - 0s 18ms/step\n"
     ]
    },
    {
     "name": "stderr",
     "output_type": "stream",
     "text": [
      "127.0.0.1 - - [08/Oct/2023 03:50:33] \"POST /classify_number HTTP/1.1\" 200 -\n",
      "127.0.0.1 - - [08/Oct/2023 03:50:40] \"OPTIONS /classify_number HTTP/1.1\" 200 -\n"
     ]
    },
    {
     "name": "stdout",
     "output_type": "stream",
     "text": [
      "1/1 [==============================] - 0s 13ms/step\n"
     ]
    },
    {
     "name": "stderr",
     "output_type": "stream",
     "text": [
      "127.0.0.1 - - [08/Oct/2023 03:50:40] \"POST /classify_number HTTP/1.1\" 200 -\n"
     ]
    },
    {
     "name": "stdout",
     "output_type": "stream",
     "text": [
      "1/1 [==============================] - 0s 14ms/step\n"
     ]
    },
    {
     "name": "stderr",
     "output_type": "stream",
     "text": [
      "127.0.0.1 - - [08/Oct/2023 03:50:45] \"POST /classify_number HTTP/1.1\" 200 -\n",
      "127.0.0.1 - - [08/Oct/2023 03:50:50] \"OPTIONS /classify_number HTTP/1.1\" 200 -\n"
     ]
    },
    {
     "name": "stdout",
     "output_type": "stream",
     "text": [
      "1/1 [==============================] - 0s 12ms/step\n"
     ]
    },
    {
     "name": "stderr",
     "output_type": "stream",
     "text": [
      "127.0.0.1 - - [08/Oct/2023 03:50:50] \"POST /classify_number HTTP/1.1\" 200 -\n",
      "127.0.0.1 - - [08/Oct/2023 03:52:45] \"OPTIONS /classify_number HTTP/1.1\" 200 -\n"
     ]
    },
    {
     "name": "stdout",
     "output_type": "stream",
     "text": [
      "1/1 [==============================] - 0s 14ms/step\n"
     ]
    },
    {
     "name": "stderr",
     "output_type": "stream",
     "text": [
      "127.0.0.1 - - [08/Oct/2023 03:52:45] \"POST /classify_number HTTP/1.1\" 200 -\n",
      "127.0.0.1 - - [08/Oct/2023 03:52:51] \"OPTIONS /classify_number HTTP/1.1\" 200 -\n"
     ]
    },
    {
     "name": "stdout",
     "output_type": "stream",
     "text": [
      "1/1 [==============================] - 0s 13ms/step\n"
     ]
    },
    {
     "name": "stderr",
     "output_type": "stream",
     "text": [
      "127.0.0.1 - - [08/Oct/2023 03:52:51] \"POST /classify_number HTTP/1.1\" 200 -\n",
      "127.0.0.1 - - [08/Oct/2023 03:52:56] \"OPTIONS /classify_number HTTP/1.1\" 200 -\n"
     ]
    },
    {
     "name": "stdout",
     "output_type": "stream",
     "text": [
      "1/1 [==============================] - 0s 15ms/step\n"
     ]
    },
    {
     "name": "stderr",
     "output_type": "stream",
     "text": [
      "127.0.0.1 - - [08/Oct/2023 03:52:56] \"POST /classify_number HTTP/1.1\" 200 -\n",
      "127.0.0.1 - - [08/Oct/2023 03:53:03] \"OPTIONS /classify_number HTTP/1.1\" 200 -\n"
     ]
    },
    {
     "name": "stdout",
     "output_type": "stream",
     "text": [
      "1/1 [==============================] - 0s 13ms/step\n"
     ]
    },
    {
     "name": "stderr",
     "output_type": "stream",
     "text": [
      "127.0.0.1 - - [08/Oct/2023 03:53:03] \"POST /classify_number HTTP/1.1\" 200 -\n",
      "127.0.0.1 - - [08/Oct/2023 03:53:08] \"OPTIONS /classify_number HTTP/1.1\" 200 -\n"
     ]
    },
    {
     "name": "stdout",
     "output_type": "stream",
     "text": [
      "1/1 [==============================] - 0s 13ms/step\n"
     ]
    },
    {
     "name": "stderr",
     "output_type": "stream",
     "text": [
      "127.0.0.1 - - [08/Oct/2023 03:53:08] \"POST /classify_number HTTP/1.1\" 200 -\n",
      "127.0.0.1 - - [08/Oct/2023 03:53:17] \"OPTIONS /classify_number HTTP/1.1\" 200 -\n"
     ]
    },
    {
     "name": "stdout",
     "output_type": "stream",
     "text": [
      "1/1 [==============================] - 0s 17ms/step\n"
     ]
    },
    {
     "name": "stderr",
     "output_type": "stream",
     "text": [
      "127.0.0.1 - - [08/Oct/2023 03:53:17] \"POST /classify_number HTTP/1.1\" 200 -\n"
     ]
    },
    {
     "name": "stdout",
     "output_type": "stream",
     "text": [
      "1/1 [==============================] - 0s 17ms/step\n"
     ]
    },
    {
     "name": "stderr",
     "output_type": "stream",
     "text": [
      "127.0.0.1 - - [08/Oct/2023 03:53:21] \"POST /classify_number HTTP/1.1\" 200 -\n",
      "127.0.0.1 - - [08/Oct/2023 03:53:25] \"OPTIONS /classify_number HTTP/1.1\" 200 -\n"
     ]
    },
    {
     "name": "stdout",
     "output_type": "stream",
     "text": [
      "1/1 [==============================] - 0s 17ms/step\n"
     ]
    },
    {
     "name": "stderr",
     "output_type": "stream",
     "text": [
      "127.0.0.1 - - [08/Oct/2023 03:53:25] \"POST /classify_number HTTP/1.1\" 200 -\n"
     ]
    },
    {
     "name": "stdout",
     "output_type": "stream",
     "text": [
      "1/1 [==============================] - 0s 20ms/step\n"
     ]
    },
    {
     "name": "stderr",
     "output_type": "stream",
     "text": [
      "127.0.0.1 - - [08/Oct/2023 03:53:29] \"POST /classify_number HTTP/1.1\" 200 -\n",
      "127.0.0.1 - - [08/Oct/2023 03:53:33] \"OPTIONS /classify_number HTTP/1.1\" 200 -\n"
     ]
    },
    {
     "name": "stdout",
     "output_type": "stream",
     "text": [
      "1/1 [==============================] - 0s 20ms/step\n"
     ]
    },
    {
     "name": "stderr",
     "output_type": "stream",
     "text": [
      "127.0.0.1 - - [08/Oct/2023 03:53:33] \"POST /classify_number HTTP/1.1\" 200 -\n",
      "127.0.0.1 - - [08/Oct/2023 03:53:38] \"OPTIONS /classify_number HTTP/1.1\" 200 -\n"
     ]
    },
    {
     "name": "stdout",
     "output_type": "stream",
     "text": [
      "1/1 [==============================] - 0s 19ms/step\n"
     ]
    },
    {
     "name": "stderr",
     "output_type": "stream",
     "text": [
      "127.0.0.1 - - [08/Oct/2023 03:53:38] \"POST /classify_number HTTP/1.1\" 200 -\n",
      "127.0.0.1 - - [08/Oct/2023 03:54:08] \"OPTIONS /classify_number HTTP/1.1\" 200 -\n"
     ]
    },
    {
     "name": "stdout",
     "output_type": "stream",
     "text": [
      "1/1 [==============================] - 0s 21ms/step\n"
     ]
    },
    {
     "name": "stderr",
     "output_type": "stream",
     "text": [
      "127.0.0.1 - - [08/Oct/2023 03:54:08] \"POST /classify_number HTTP/1.1\" 200 -\n",
      "127.0.0.1 - - [08/Oct/2023 03:54:17] \"OPTIONS /classify_number HTTP/1.1\" 200 -\n"
     ]
    },
    {
     "name": "stdout",
     "output_type": "stream",
     "text": [
      "1/1 [==============================] - 0s 13ms/step\n"
     ]
    },
    {
     "name": "stderr",
     "output_type": "stream",
     "text": [
      "127.0.0.1 - - [08/Oct/2023 03:54:17] \"POST /classify_number HTTP/1.1\" 200 -\n",
      "127.0.0.1 - - [08/Oct/2023 03:54:40] \"OPTIONS /classify_number HTTP/1.1\" 200 -\n"
     ]
    },
    {
     "name": "stdout",
     "output_type": "stream",
     "text": [
      "1/1 [==============================] - 0s 14ms/step\n"
     ]
    },
    {
     "name": "stderr",
     "output_type": "stream",
     "text": [
      "127.0.0.1 - - [08/Oct/2023 03:54:40] \"POST /classify_number HTTP/1.1\" 200 -\n"
     ]
    }
   ],
   "source": [
    "import tensorflow as tf\n",
    "import base64\n",
    "from PIL import Image\n",
    "import io\n",
    "import numpy as np\n",
    "from flask import Flask, request, jsonify\n",
    "from flask_cors import CORS, cross_origin\n",
    "\n",
    "model = tf.keras.models.load_model('./digits_recognition')\n",
    "\n",
    "def base64_to_array(base64_str):\n",
    "    stripped = base64_str.split(',')[1]\n",
    "    stripped = stripped.replace(\" \", \"+\") # fix '+' being as a space\n",
    "    image_bytes = base64.b64decode(stripped)\n",
    "    image = Image.open(io.BytesIO(image_bytes))\n",
    "    image_array = np.array(image);\n",
    "    flattened_array = image_array[:,:,0]\n",
    "    normalized_array = flattened_array / 255\n",
    "    \n",
    "    return normalized_array\n",
    "\n",
    "def get_predicted_number(image_array):\n",
    "    batch = np.array([image_array])\n",
    "    prediction = model.predict(batch)\n",
    "    \n",
    "    return [np.argmax(prediction[0]), np.max(prediction[0])]\n",
    "\n",
    "app = Flask(__name__, static_folder='frontend')\n",
    "\n",
    "@app.route('/classify_number', methods=['POST'])\n",
    "@cross_origin()\n",
    "def echo():\n",
    "    image_base64 = request.json.get('image')\n",
    "    response = jsonify({'prediction': str(-1), 'probability': str(-1)})\n",
    "    if (image_base64):\n",
    "        image_array = base64_to_array(image_base64)\n",
    "        result = get_predicted_number(image_array)\n",
    "        response = jsonify({'prediction': str(result[0]), 'probability': str(result[1])})\n",
    "    \n",
    "    return response\n",
    "\n",
    "@app.route('/', defaults={'path': ''})\n",
    "@app.route('/<path:path>')\n",
    "def serve(path):\n",
    "    if path != \"\" and os.path.exists(app.static_folder + '/' + path):\n",
    "        return send_from_directory(app.static_folder, path)\n",
    "    else:\n",
    "        return send_from_directory(app.static_folder, 'index.html')\n",
    "\n",
    "app.run()"
   ]
  },
  {
   "cell_type": "code",
   "execution_count": 192,
   "id": "51543f98",
   "metadata": {},
   "outputs": [
    {
     "ename": "ValueError",
     "evalue": "in user code:\n\n    File \"/Users/arturpietrzak/miniconda3/envs/tensorflow/lib/python3.10/site-packages/keras/engine/training.py\", line 2169, in predict_function  *\n        return step_function(self, iterator)\n    File \"/Users/arturpietrzak/miniconda3/envs/tensorflow/lib/python3.10/site-packages/keras/engine/training.py\", line 2155, in step_function  **\n        outputs = model.distribute_strategy.run(run_step, args=(data,))\n    File \"/Users/arturpietrzak/miniconda3/envs/tensorflow/lib/python3.10/site-packages/keras/engine/training.py\", line 2143, in run_step  **\n        outputs = model.predict_step(data)\n    File \"/Users/arturpietrzak/miniconda3/envs/tensorflow/lib/python3.10/site-packages/keras/engine/training.py\", line 2111, in predict_step\n        return self(x, training=False)\n    File \"/Users/arturpietrzak/miniconda3/envs/tensorflow/lib/python3.10/site-packages/keras/utils/traceback_utils.py\", line 70, in error_handler\n        raise e.with_traceback(filtered_tb) from None\n    File \"/Users/arturpietrzak/miniconda3/envs/tensorflow/lib/python3.10/site-packages/keras/engine/input_spec.py\", line 298, in assert_input_compatibility\n        raise ValueError(\n\n    ValueError: Input 0 of layer \"sequential_11\" is incompatible with the layer: expected shape=(None, 28, 28), found shape=(None, 1, 28, 28)\n",
     "output_type": "error",
     "traceback": [
      "\u001b[0;31m---------------------------------------------------------------------------\u001b[0m",
      "\u001b[0;31mValueError\u001b[0m                                Traceback (most recent call last)",
      "Cell \u001b[0;32mIn[192], line 1\u001b[0m\n\u001b[0;32m----> 1\u001b[0m \u001b[38;5;28mprint\u001b[39m(\u001b[43mget_predicted_number\u001b[49m\u001b[43m(\u001b[49m\u001b[43m[\u001b[49m\u001b[43mbase64_to_array\u001b[49m\u001b[43m(\u001b[49m\u001b[38;5;124;43m\"\u001b[39;49m\u001b[38;5;124;43mdata:image/png;base64,iVBORw0KGgoAAAANSUhEUgAAABwAAAAcCAYAAAByDd+UAAAAAXNSR0IArs4c6QAAAMNJREFUSEvdllEKgCAQRNeb6cnUk6knM0ZYiCKwkRVKCPoI3+444+ZEpMvG5VaA3nvBk1KaLpkGAlRKkVqrhBDsgb33AcMyBaKzGKO01gYQ72ZAlTHnPM5N4SbAKwxSqllMTAODQMbz5mbAJ+lQBORV88xYlY4FNt8ORDScQ83zi+6QcSjK+g6QOb+lDrcDGcPQHbKG+Q6QudI0qVQsWMPQkv4fyEaCklQH8dtLmzbNSgbpDt/+OJ2HFxWL+el3/3I78ABK5J0B3Y5xzwAAAABJRU5ErkJggg==\u001b[39;49m\u001b[38;5;124;43m\"\u001b[39;49m\u001b[43m)\u001b[49m\u001b[43m]\u001b[49m\u001b[43m)\u001b[49m)\n",
      "Cell \u001b[0;32mIn[190], line 27\u001b[0m, in \u001b[0;36mget_predicted_number\u001b[0;34m(image_array)\u001b[0m\n\u001b[1;32m     25\u001b[0m \u001b[38;5;28;01mdef\u001b[39;00m \u001b[38;5;21mget_predicted_number\u001b[39m(image_array):\n\u001b[1;32m     26\u001b[0m     batch \u001b[38;5;241m=\u001b[39m np\u001b[38;5;241m.\u001b[39marray([image_array])\n\u001b[0;32m---> 27\u001b[0m     prediction \u001b[38;5;241m=\u001b[39m \u001b[43mmodel\u001b[49m\u001b[38;5;241;43m.\u001b[39;49m\u001b[43mpredict\u001b[49m\u001b[43m(\u001b[49m\u001b[43mbatch\u001b[49m\u001b[43m)\u001b[49m\n\u001b[1;32m     29\u001b[0m     \u001b[38;5;28;01mreturn\u001b[39;00m [np\u001b[38;5;241m.\u001b[39margmax(prediction[\u001b[38;5;241m0\u001b[39m]), np\u001b[38;5;241m.\u001b[39mmax(prediction[\u001b[38;5;241m0\u001b[39m])]\n",
      "File \u001b[0;32m~/miniconda3/envs/tensorflow/lib/python3.10/site-packages/keras/utils/traceback_utils.py:70\u001b[0m, in \u001b[0;36mfilter_traceback.<locals>.error_handler\u001b[0;34m(*args, **kwargs)\u001b[0m\n\u001b[1;32m     67\u001b[0m     filtered_tb \u001b[38;5;241m=\u001b[39m _process_traceback_frames(e\u001b[38;5;241m.\u001b[39m__traceback__)\n\u001b[1;32m     68\u001b[0m     \u001b[38;5;66;03m# To get the full stack trace, call:\u001b[39;00m\n\u001b[1;32m     69\u001b[0m     \u001b[38;5;66;03m# `tf.debugging.disable_traceback_filtering()`\u001b[39;00m\n\u001b[0;32m---> 70\u001b[0m     \u001b[38;5;28;01mraise\u001b[39;00m e\u001b[38;5;241m.\u001b[39mwith_traceback(filtered_tb) \u001b[38;5;28;01mfrom\u001b[39;00m \u001b[38;5;28;01mNone\u001b[39;00m\n\u001b[1;32m     71\u001b[0m \u001b[38;5;28;01mfinally\u001b[39;00m:\n\u001b[1;32m     72\u001b[0m     \u001b[38;5;28;01mdel\u001b[39;00m filtered_tb\n",
      "File \u001b[0;32m/var/folders/fx/k63_tj5s3ld6sv8pgn_8j5gr0000gn/T/__autograph_generated_filejsm8ehh3.py:15\u001b[0m, in \u001b[0;36mouter_factory.<locals>.inner_factory.<locals>.tf__predict_function\u001b[0;34m(iterator)\u001b[0m\n\u001b[1;32m     13\u001b[0m \u001b[38;5;28;01mtry\u001b[39;00m:\n\u001b[1;32m     14\u001b[0m     do_return \u001b[38;5;241m=\u001b[39m \u001b[38;5;28;01mTrue\u001b[39;00m\n\u001b[0;32m---> 15\u001b[0m     retval_ \u001b[38;5;241m=\u001b[39m ag__\u001b[38;5;241m.\u001b[39mconverted_call(ag__\u001b[38;5;241m.\u001b[39mld(step_function), (ag__\u001b[38;5;241m.\u001b[39mld(\u001b[38;5;28mself\u001b[39m), ag__\u001b[38;5;241m.\u001b[39mld(iterator)), \u001b[38;5;28;01mNone\u001b[39;00m, fscope)\n\u001b[1;32m     16\u001b[0m \u001b[38;5;28;01mexcept\u001b[39;00m:\n\u001b[1;32m     17\u001b[0m     do_return \u001b[38;5;241m=\u001b[39m \u001b[38;5;28;01mFalse\u001b[39;00m\n",
      "\u001b[0;31mValueError\u001b[0m: in user code:\n\n    File \"/Users/arturpietrzak/miniconda3/envs/tensorflow/lib/python3.10/site-packages/keras/engine/training.py\", line 2169, in predict_function  *\n        return step_function(self, iterator)\n    File \"/Users/arturpietrzak/miniconda3/envs/tensorflow/lib/python3.10/site-packages/keras/engine/training.py\", line 2155, in step_function  **\n        outputs = model.distribute_strategy.run(run_step, args=(data,))\n    File \"/Users/arturpietrzak/miniconda3/envs/tensorflow/lib/python3.10/site-packages/keras/engine/training.py\", line 2143, in run_step  **\n        outputs = model.predict_step(data)\n    File \"/Users/arturpietrzak/miniconda3/envs/tensorflow/lib/python3.10/site-packages/keras/engine/training.py\", line 2111, in predict_step\n        return self(x, training=False)\n    File \"/Users/arturpietrzak/miniconda3/envs/tensorflow/lib/python3.10/site-packages/keras/utils/traceback_utils.py\", line 70, in error_handler\n        raise e.with_traceback(filtered_tb) from None\n    File \"/Users/arturpietrzak/miniconda3/envs/tensorflow/lib/python3.10/site-packages/keras/engine/input_spec.py\", line 298, in assert_input_compatibility\n        raise ValueError(\n\n    ValueError: Input 0 of layer \"sequential_11\" is incompatible with the layer: expected shape=(None, 28, 28), found shape=(None, 1, 28, 28)\n"
     ]
    }
   ],
   "source": [
    "\n",
    "    \n",
    "print(get_predicted_number([base64_to_array(\"data:image/png;base64,iVBORw0KGgoAAAANSUhEUgAAABwAAAAcCAYAAAByDd+UAAAAAXNSR0IArs4c6QAAAMNJREFUSEvdllEKgCAQRNeb6cnUk6knM0ZYiCKwkRVKCPoI3+444+ZEpMvG5VaA3nvBk1KaLpkGAlRKkVqrhBDsgb33AcMyBaKzGKO01gYQ72ZAlTHnPM5N4SbAKwxSqllMTAODQMbz5mbAJ+lQBORV88xYlY4FNt8ORDScQ83zi+6QcSjK+g6QOb+lDrcDGcPQHbKG+Q6QudI0qVQsWMPQkv4fyEaCklQH8dtLmzbNSgbpDt/+OJ2HFxWL+el3/3I78ABK5J0B3Y5xzwAAAABJRU5ErkJggg==\")]))"
   ]
  },
  {
   "cell_type": "code",
   "execution_count": 191,
   "id": "4366b7ac",
   "metadata": {},
   "outputs": [
    {
     "name": "stdout",
     "output_type": "stream",
     "text": [
      "1875/1875 [==============================] - 3s 2ms/step\n"
     ]
    },
    {
     "data": {
      "text/plain": [
       "array([[0., 0., 0., ..., 0., 0., 0.],\n",
       "       [1., 0., 0., ..., 0., 0., 0.],\n",
       "       [0., 0., 0., ..., 0., 0., 0.],\n",
       "       ...,\n",
       "       [0., 0., 0., ..., 0., 0., 0.],\n",
       "       [0., 0., 0., ..., 0., 0., 0.],\n",
       "       [0., 0., 0., ..., 0., 1., 0.]], dtype=float32)"
      ]
     },
     "execution_count": 191,
     "metadata": {},
     "output_type": "execute_result"
    }
   ],
   "source": [
    "model.predict(x_train)"
   ]
  },
  {
   "cell_type": "code",
   "execution_count": null,
   "id": "48d1599f",
   "metadata": {},
   "outputs": [],
   "source": []
  }
 ],
 "metadata": {
  "kernelspec": {
   "display_name": "Python 3.10 (tensorflow)",
   "language": "python",
   "name": "tensorflow"
  },
  "language_info": {
   "codemirror_mode": {
    "name": "ipython",
    "version": 3
   },
   "file_extension": ".py",
   "mimetype": "text/x-python",
   "name": "python",
   "nbconvert_exporter": "python",
   "pygments_lexer": "ipython3",
   "version": "3.10.10"
  }
 },
 "nbformat": 4,
 "nbformat_minor": 5
}
