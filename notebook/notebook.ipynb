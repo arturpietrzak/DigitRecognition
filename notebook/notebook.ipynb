{
 "cells": [
  {
   "cell_type": "code",
   "execution_count": 15,
   "id": "f77b5b74",
   "metadata": {},
   "outputs": [],
   "source": [
    "import tensorflow as tf\n",
    "import base64\n",
    "from PIL import Image\n",
    "import io\n",
    "import numpy as np\n",
    "import matplotlib.pyplot as plt"
   ]
  },
  {
   "cell_type": "code",
   "execution_count": 60,
   "id": "60815ccc",
   "metadata": {},
   "outputs": [],
   "source": [
    "tf.keras.backend.set_floatx('float32')"
   ]
  },
  {
   "cell_type": "code",
   "execution_count": 61,
   "id": "e60b8d7b",
   "metadata": {},
   "outputs": [],
   "source": [
    "# data import\n",
    "dataset = tf.keras.datasets.mnist\n",
    "(x_train, y_train), (x_test, y_test) = dataset.load_data()"
   ]
  },
  {
   "cell_type": "code",
   "execution_count": 62,
   "id": "d7e6651f",
   "metadata": {},
   "outputs": [],
   "source": [
    "# data normalization\n",
    "x_train = np.round(x_train.astype(\"float32\") / 255)\n",
    "x_test = np.round(x_test.astype(\"float32\") / 255)"
   ]
  },
  {
   "cell_type": "code",
   "execution_count": 52,
   "id": "a84f2e94",
   "metadata": {},
   "outputs": [],
   "source": [
    "# regular neural network config\n",
    "model = tf.keras.models.Sequential()\n",
    "model.add(tf.keras.layers.Flatten(input_shape=(28, 28)))\n",
    "model.add(tf.keras.layers.Dense(256, activation = 'relu'))\n",
    "model.add(tf.keras.layers.Dropout(0.3))\n",
    "model.add(tf.keras.layers.Dense(256, activation = 'relu'))\n",
    "model.add(tf.keras.layers.Dense(10, activation = 'softmax'))\n",
    "\n",
    "model.compile(optimizer = 'adam', loss = 'sparse_categorical_crossentropy', metrics = ['accuracy'])"
   ]
  },
  {
   "cell_type": "code",
   "execution_count": 63,
   "id": "9e600e0b",
   "metadata": {},
   "outputs": [],
   "source": [
    "# convolutional neural network config\n",
    "model = tf.keras.models.Sequential()\n",
    "model.add(tf.keras.layers.Conv2D(32, kernel_size=(3, 3), activation='relu', kernel_initializer='he_normal', input_shape=(28,28,1)))\n",
    "model.add(tf.keras.layers.MaxPool2D((2, 2)))\n",
    "model.add(tf.keras.layers.Conv2D(128, (3, 3), activation='relu', kernel_initializer='he_normal'))\n",
    "model.add(tf.keras.layers.MaxPool2D((2, 2)))\n",
    "model.add(tf.keras.layers.Conv2D(64, (3, 3), activation='relu', kernel_initializer='he_normal'))\n",
    "model.add(tf.keras.layers.BatchNormalization())\n",
    "model.add(tf.keras.layers.Flatten())\n",
    "model.add(tf.keras.layers.Dense(128, activation='relu'))\n",
    "model.add(tf.keras.layers.BatchNormalization())\n",
    "model.add(tf.keras.layers.Dense(10, activation='softmax'))\n",
    "\n",
    "model.compile(optimizer = 'adam', loss = 'sparse_categorical_crossentropy', metrics = ['accuracy'])"
   ]
  },
  {
   "cell_type": "code",
   "execution_count": 64,
   "id": "53451792",
   "metadata": {},
   "outputs": [
    {
     "name": "stdout",
     "output_type": "stream",
     "text": [
      "Epoch 1/10\n",
      "1875/1875 [==============================] - 21s 11ms/step - loss: 0.1179 - accuracy: 0.9644\n",
      "Epoch 2/10\n",
      "1875/1875 [==============================] - 20s 11ms/step - loss: 0.0503 - accuracy: 0.9844\n",
      "Epoch 3/10\n",
      "1875/1875 [==============================] - 20s 11ms/step - loss: 0.0389 - accuracy: 0.9883\n",
      "Epoch 4/10\n",
      "1875/1875 [==============================] - 19s 10ms/step - loss: 0.0293 - accuracy: 0.9906\n",
      "Epoch 5/10\n",
      "1875/1875 [==============================] - 19s 10ms/step - loss: 0.0240 - accuracy: 0.9926\n",
      "Epoch 6/10\n",
      "1875/1875 [==============================] - 19s 10ms/step - loss: 0.0195 - accuracy: 0.9936\n",
      "Epoch 7/10\n",
      "1875/1875 [==============================] - 19s 10ms/step - loss: 0.0158 - accuracy: 0.9949\n",
      "Epoch 8/10\n",
      "1875/1875 [==============================] - 19s 10ms/step - loss: 0.0122 - accuracy: 0.9959\n",
      "Epoch 9/10\n",
      "1875/1875 [==============================] - 19s 10ms/step - loss: 0.0120 - accuracy: 0.9958\n",
      "Epoch 10/10\n",
      "1875/1875 [==============================] - 20s 11ms/step - loss: 0.0099 - accuracy: 0.9966\n"
     ]
    },
    {
     "data": {
      "text/plain": [
       "<keras.callbacks.History at 0x2bf30ba60>"
      ]
     },
     "execution_count": 64,
     "metadata": {},
     "output_type": "execute_result"
    }
   ],
   "source": [
    "# 10 epochs for the CNN, 5 epochs for regular NN\n",
    "model.fit(x_train, y_train, epochs=10) "
   ]
  },
  {
   "cell_type": "code",
   "execution_count": 48,
   "id": "9bde52a0",
   "metadata": {},
   "outputs": [
    {
     "name": "stdout",
     "output_type": "stream",
     "text": [
      "Model: \"sequential_6\"\n",
      "_________________________________________________________________\n",
      " Layer (type)                Output Shape              Param #   \n",
      "=================================================================\n",
      " conv2d_17 (Conv2D)          (None, 26, 26, 32)        320       \n",
      "                                                                 \n",
      " max_pooling2d_10 (MaxPoolin  (None, 13, 13, 32)       0         \n",
      " g2D)                                                            \n",
      "                                                                 \n",
      " conv2d_18 (Conv2D)          (None, 11, 11, 128)       36992     \n",
      "                                                                 \n",
      " max_pooling2d_11 (MaxPoolin  (None, 5, 5, 128)        0         \n",
      " g2D)                                                            \n",
      "                                                                 \n",
      " conv2d_19 (Conv2D)          (None, 3, 3, 64)          73792     \n",
      "                                                                 \n",
      " batch_normalization_6 (Batc  (None, 3, 3, 64)         256       \n",
      " hNormalization)                                                 \n",
      "                                                                 \n",
      " flatten_7 (Flatten)         (None, 576)               0         \n",
      "                                                                 \n",
      " dense_15 (Dense)            (None, 128)               73856     \n",
      "                                                                 \n",
      " batch_normalization_7 (Batc  (None, 128)              512       \n",
      " hNormalization)                                                 \n",
      "                                                                 \n",
      " dense_16 (Dense)            (None, 10)                1290      \n",
      "                                                                 \n",
      "=================================================================\n",
      "Total params: 187,018\n",
      "Trainable params: 186,634\n",
      "Non-trainable params: 384\n",
      "_________________________________________________________________\n"
     ]
    }
   ],
   "source": [
    "model.summary()"
   ]
  },
  {
   "cell_type": "code",
   "execution_count": 45,
   "id": "41fa5c07",
   "metadata": {},
   "outputs": [
    {
     "name": "stdout",
     "output_type": "stream",
     "text": [
      "313/313 [==============================] - 2s 6ms/step - loss: 0.0410 - accuracy: 0.9884\n",
      "accuracy = 0.9884000420570374 loss = 0.04100349172949791\n"
     ]
    }
   ],
   "source": [
    "# testing the accuracy\n",
    "loss, accuracy = model.evaluate(x_test, y_test)\n",
    "print('accuracy =', accuracy, 'loss =', loss)"
   ]
  },
  {
   "cell_type": "code",
   "execution_count": 47,
   "id": "21316bf4",
   "metadata": {},
   "outputs": [
    {
     "name": "stderr",
     "output_type": "stream",
     "text": [
      "WARNING:absl:Found untraced functions such as _jit_compiled_convolution_op, _jit_compiled_convolution_op, _jit_compiled_convolution_op while saving (showing 3 of 3). These functions will not be directly callable after loading.\n"
     ]
    },
    {
     "name": "stdout",
     "output_type": "stream",
     "text": [
      "INFO:tensorflow:Assets written to: digits_recognition/assets\n"
     ]
    },
    {
     "name": "stderr",
     "output_type": "stream",
     "text": [
      "INFO:tensorflow:Assets written to: digits_recognition/assets\n"
     ]
    }
   ],
   "source": [
    "# save model and reduce size\n",
    "model.save('digits_recognition')"
   ]
  },
  {
   "cell_type": "code",
   "execution_count": 66,
   "id": "7bc40895",
   "metadata": {},
   "outputs": [],
   "source": [
    "# helper functions\n",
    "def base64_to_array(base64_str):\n",
    "    stripped = base64_str.split(',')[1]\n",
    "    stripped = stripped.replace(\" \", \"+\") # fix '+' being as a space\n",
    "    image_bytes = base64.b64decode(stripped)\n",
    "    image = Image.open(io.BytesIO(image_bytes))\n",
    "    image_array = np.array(image);\n",
    "    flattened_array = image_array[:,:,0]\n",
    "    normalized_array = np.round(flattened_array / 255)\n",
    "    plt.imshow(normalized_array)\n",
    "    return normalized_array\n",
    "\n",
    "def get_predicted_number(image_array):\n",
    "    batch = np.array([image_array])\n",
    "    prediction = model.predict(batch)\n",
    "    \n",
    "    return [np.argmax(prediction[0]), np.max(prediction[0])]"
   ]
  },
  {
   "cell_type": "code",
   "execution_count": 67,
   "id": "51543f98",
   "metadata": {},
   "outputs": [
    {
     "name": "stdout",
     "output_type": "stream",
     "text": [
      "1/1 [==============================] - 0s 347ms/step\n",
      "[2, 1.0]\n"
     ]
    },
    {
     "data": {
      "image/png": "[encoded data removed]",
      "text/plain": [
       "<Figure size 640x480 with 1 Axes>"
      ]
     },
     "metadata": {},
     "output_type": "display_data"
    }
   ],
   "source": [
    "# example of predicting a number value\n",
    "print(get_predicted_number(base64_to_array(\"data:image/jpeg;base64,/9j/4AAQSkZJRgABAQAAAQABAAD/4gHYSUNDX1BST0ZJTEUAAQEAAAHIAAAAAAQwAABtbnRyUkdCIFhZWiAH4AABAAEAAAAAAABhY3NwAAAAAAAAAAAAAAAAAAAAAAAAAAAAAAAAAAAAAQAA9tYAAQAAAADTLQAAAAAAAAAAAAAAAAAAAAAAAAAAAAAAAAAAAAAAAAAAAAAAAAAAAAAAAAAAAAAAAAAAAAlkZXNjAAAA8AAAACRyWFlaAAABFAAAABRnWFlaAAABKAAAABRiWFlaAAABPAAAABR3dHB0AAABUAAAABRyVFJDAAABZAAAAChnVFJDAAABZAAAAChiVFJDAAABZAAAAChjcHJ0AAABjAAAADxtbHVjAAAAAAAAAAEAAAAMZW5VUwAAAAgAAAAcAHMAUgBHAEJYWVogAAAAAAAAb6IAADj1AAADkFhZWiAAAAAAAABimQAAt4UAABjaWFlaIAAAAAAAACSgAAAPhAAAts9YWVogAAAAAAAA9tYAAQAAAADTLXBhcmEAAAAAAAQAAAACZmYAAPKnAAANWQAAE9AAAApbAAAAAAAAAABtbHVjAAAAAAAAAAEAAAAMZW5VUwAAACAAAAAcAEcAbwBvAGcAbABlACAASQBuAGMALgAgADIAMAAxADb/2wBDAAEBAQEBAQEBAQEBAQEBAQEBAQEBAQEBAQEBAQEBAQEBAQEBAQEBAQEBAQEBAQEBAQEBAQEBAQEBAQEBAQEBAQH/2wBDAQEBAQEBAQEBAQEBAQEBAQEBAQEBAQEBAQEBAQEBAQEBAQEBAQEBAQEBAQEBAQEBAQEBAQEBAQEBAQEBAQEBAQH/wAARCAAcABwDAREAAhEBAxEB/8QAGgAAAQUBAAAAAAAAAAAAAAAAAAUHCAkKC//EACMQAAEEAwEBAAIDAQAAAAAAAAUDBAYHAQIICQARFQoSExT/xAAUAQEAAAAAAAAAAAAAAAAAAAAA/8QAFBEBAAAAAAAAAAAAAAAAAAAAAP/aAAwDAQACEQMRAD8A5/8A8GiCJeLXMFOs6Ki/ph6Sx3i3ovoxCFEIhzUAogvbEuqiK2uPG61zNOnZUXsGswlGZTKvXLmZQ+TsNXEcjbFEmalALZ+40DhUP2/ytJ+IOuOgeTZgbbSY1RVlHoPiUNGaAxGVBWqib2Lyr9Q3LHkwa0ljD4Occx/92YUAOX6wZcm+XYqOVQiv8B8FxNaxnrv+QD6JOjdz2jHBEtk8c1mN/dAnIyNA1fz/AEBVIRm1ktiSMaJUj8fDxmHR9BFBg3LHI6NKyB+OGEpOFSJKFWYJvup27CvQP046M6CrL/nc1hqUC1nXB1ug4bYmEOq8S3iAya5RcunSmiErUHuTQzO2GSqgZ2NUdDBj3dyyQCoj4H55h5ttXr6+6z5rpASOOWtbZ5SNwoUXMsY+NeFEhj8upo8Mk1EmI9HRiNdq5Xcqa6flPGmPzvvrjIbA/QXyX9IOcqaR8xfLnkS2JdzI+CwyRdf9UDB0Hidg9yXSPRcP9UTrx9PMlQ9B1zu/2QryqG+yo0UZfSV4WNy1d3kmuGSbrDirqXhqcgK06ypuS0nO5TE285ARqUOQTl+TiTowYANziOQJYu30aLGABlhphZdJbKw9fP8Al/TGu+wRc+A+B51ej+hl62HU0tfNzrVAHaEWAmqVbRnClbC2Jd0k+LMh0G3OZjDFoUeoIPCLZsLSReukUnDnRVVPTfUGY+A+D//Z\")))"
   ]
  },
  {
   "cell_type": "code",
   "execution_count": 68,
   "id": "8ef79c8d",
   "metadata": {},
   "outputs": [
    {
     "name": "stdout",
     "output_type": "stream",
     "text": [
      "313/313 [==============================] - 1s 3ms/step\n"
     ]
    },
    {
     "data": {
      "image/png": "[encoded data removed]",
      "text/plain": [
       "<Figure size 640x480 with 2 Axes>"
      ]
     },
     "metadata": {},
     "output_type": "display_data"
    }
   ],
   "source": [
    "# performance metrics\n",
    "from sklearn.metrics import confusion_matrix, ConfusionMatrixDisplay\n",
    "\n",
    "test_predictions = model.predict(x_test)\n",
    "y_test_prefictions = np.argmax(test_predictions, axis=1)\n",
    "confusion = confusion_matrix(y_test, y_test_prefictions)\n",
    "ConfusionMatrixDisplay(confusion).plot()\n",
    "\n",
    "plt.show()"
   ]
  },
  {
   "cell_type": "code",
   "execution_count": null,
   "id": "eb3ae97e",
   "metadata": {},
   "outputs": [],
   "source": []
  }
 ],
 "metadata": {
  "kernelspec": {
   "display_name": "Python 3.10 (tensorflow)",
   "language": "python",
   "name": "tensorflow"
  },
  "language_info": {
   "codemirror_mode": {
    "name": "ipython",
    "version": 3
   },
   "file_extension": ".py",
   "mimetype": "text/x-python",
   "name": "python",
   "nbconvert_exporter": "python",
   "pygments_lexer": "ipython3",
   "version": "3.10.10"
  }
 },
 "nbformat": 4,
 "nbformat_minor": 5
}
